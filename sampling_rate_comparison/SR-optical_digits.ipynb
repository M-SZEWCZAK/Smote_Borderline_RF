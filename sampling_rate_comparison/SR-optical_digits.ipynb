{
 "cells": [
  {
   "cell_type": "markdown",
   "id": "4a794e9f",
   "metadata": {},
   "source": [
    "# **Sampling rate comparison for Optical_digits**"
   ]
  },
  {
   "cell_type": "code",
   "execution_count": null,
   "id": "a12c38ea",
   "metadata": {},
   "outputs": [],
   "source": [
    "import sys\n",
    "import os\n",
    "\n",
    "sys.path.append(os.path.abspath(\"..\"))\n",
    "from comparator import *"
   ]
  },
  {
   "cell_type": "code",
   "execution_count": null,
   "id": "01f11071",
   "metadata": {},
   "outputs": [],
   "source": [
    "comparator = SRComparator(\n",
    "    dataset_name=\"optical_digits\",\n",
    "    n_trees=100,\n",
    "    iterations=10,\n",
    "    n_rates=10,\n",
    ")\n",
    "comparator.compute()"
   ]
  },
  {
   "cell_type": "code",
   "execution_count": null,
   "id": "588be019",
   "metadata": {},
   "outputs": [],
   "source": [
    "comparator.plot_rates()"
   ]
  }
 ],
 "metadata": {
  "kernelspec": {
   "display_name": "myenv",
   "language": "python",
   "name": "python3"
  },
  "language_info": {
   "codemirror_mode": {
    "name": "ipython",
    "version": 3
   },
   "file_extension": ".py",
   "mimetype": "text/x-python",
   "name": "python",
   "nbconvert_exporter": "python",
   "pygments_lexer": "ipython3",
   "version": "3.11.7"
  }
 },
 "nbformat": 4,
 "nbformat_minor": 5
}
