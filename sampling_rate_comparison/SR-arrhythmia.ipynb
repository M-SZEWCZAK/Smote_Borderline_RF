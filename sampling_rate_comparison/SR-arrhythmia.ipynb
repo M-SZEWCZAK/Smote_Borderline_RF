{
 "cells": [
  {
   "cell_type": "markdown",
   "id": "4a794e9f",
   "metadata": {},
   "source": [
    "# **Sampling rate comparison for Arrhythmia**"
   ]
  },
  {
   "cell_type": "code",
   "execution_count": 1,
   "id": "a12c38ea",
   "metadata": {},
   "outputs": [
    {
     "name": "stderr",
     "output_type": "stream",
     "text": [
      "c:\\Users\\Kornel\\Github\\college\\6sem\\Smote_Borderline_RF\\venv\\Lib\\site-packages\\tqdm\\auto.py:21: TqdmWarning: IProgress not found. Please update jupyter and ipywidgets. See https://ipywidgets.readthedocs.io/en/stable/user_install.html\n",
      "  from .autonotebook import tqdm as notebook_tqdm\n"
     ]
    }
   ],
   "source": [
    "import sys\n",
    "import os\n",
    "\n",
    "sys.path.append(os.path.abspath(\"..\"))\n",
    "from comparator import *\n",
    "\n",
    "%load_ext autoreload\n",
    "%autoreload 2"
   ]
  },
  {
   "cell_type": "code",
   "execution_count": null,
   "id": "01f11071",
   "metadata": {},
   "outputs": [
    {
     "name": "stdout",
     "output_type": "stream",
     "text": [
      "=========================================================================\n",
      "=========================     START COMPUTING     =======================\n",
      "=========================================================================\n",
      "\n",
      "Dataset: arrhythmia\n",
      "Computing 20 comparators with sampling rates from 0.3 to 1.\n",
      "=========================================================================\n",
      "\n",
      "Minority class count: 5ng |██████████████████████--------| 74.0% Complete\n",
      "k_neighbors: 4, m_neighbors: 10, kind: borderline-1\n",
      "BorderlineSMOTE - bagging |██████████████████████████████| 100.0% Complete\n",
      "BorderlineSMOTE - bagging |██████████████████████████████| 100.0% Complete\n",
      "BorderlineSMOTE - bagging |██████████████████████████████| 100.0% Complete\n",
      "BorderlineSMOTE - bagging |██████████████████████████████| 100.0% Complete\n",
      "BorderlineSMOTE - bagging |██████████████████████████████| 100.0% Complete\n",
      "BorderlineSMOTE - bagging |██████████████████████████████| 100.0% Complete\n",
      "BorderlineSMOTE - bagging |████████████████████----------| 68.0% Complete\r"
     ]
    }
   ],
   "source": [
    "comparator = SRComparator(\n",
    "    dataset_name=\"arrhythmia\",\n",
    "    n_trees=100,\n",
    "    iterations=50,\n",
    "    n_rates=20,\n",
    ")\n",
    "comparator.compute()"
   ]
  },
  {
   "cell_type": "code",
   "execution_count": null,
   "id": "588be019",
   "metadata": {},
   "outputs": [],
   "source": [
    "comparator.plot_rates()"
   ]
  }
 ],
 "metadata": {
  "kernelspec": {
   "display_name": "venv",
   "language": "python",
   "name": "python3"
  },
  "language_info": {
   "codemirror_mode": {
    "name": "ipython",
    "version": 3
   },
   "file_extension": ".py",
   "mimetype": "text/x-python",
   "name": "python",
   "nbconvert_exporter": "python",
   "pygments_lexer": "ipython3",
   "version": "3.12.4"
  }
 },
 "nbformat": 4,
 "nbformat_minor": 5
}
