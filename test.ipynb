{
 "cells": [
  {
   "cell_type": "code",
   "execution_count": 1,
   "id": "d3f23218",
   "metadata": {},
   "outputs": [
    {
     "name": "stdout",
     "output_type": "stream",
     "text": [
      "=== RF with SMOTE ===\n",
      "              precision    recall  f1-score   support\n",
      "\n",
      "          -1       0.95      0.98      0.97       554\n",
      "           1       0.62      0.40      0.49        45\n",
      "\n",
      "    accuracy                           0.94       599\n",
      "   macro avg       0.79      0.69      0.73       599\n",
      "weighted avg       0.93      0.94      0.93       599\n",
      "\n"
     ]
    }
   ],
   "source": [
    "from os_sklearn.ensemble import OSRandomForestClassifier\n",
    "from sklearn.metrics import classification_report\n",
    "from sklearn.model_selection import train_test_split\n",
    "\n",
    "from imblearn.datasets import fetch_datasets\n",
    "us_crime = fetch_datasets()['us_crime']\n",
    "\n",
    "X = us_crime.data\n",
    "y = us_crime.target\n",
    "\n",
    "X_train, X_test, y_train, y_test = train_test_split(\n",
    "    X, y, stratify=y, test_size=0.3, random_state=42\n",
    ")\n",
    "\n",
    "rf = OSRandomForestClassifier(oversampling_strategy='SMOTE', random_state=42)\n",
    "rf.fit(X_train, y_train)\n",
    "y_pred = rf.predict(X_test)\n",
    "\n",
    "print(\"=== RF with SMOTE ===\")\n",
    "print(classification_report(y_test, y_pred))"
   ]
  }
 ],
 "metadata": {
  "kernelspec": {
   "display_name": "venv",
   "language": "python",
   "name": "python3"
  },
  "language_info": {
   "codemirror_mode": {
    "name": "ipython",
    "version": 3
   },
   "file_extension": ".py",
   "mimetype": "text/x-python",
   "name": "python",
   "nbconvert_exporter": "python",
   "pygments_lexer": "ipython3",
   "version": "3.12.4"
  }
 },
 "nbformat": 4,
 "nbformat_minor": 5
}
