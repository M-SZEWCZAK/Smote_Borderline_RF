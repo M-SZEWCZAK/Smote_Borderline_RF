{
 "cells": [
  {
   "cell_type": "markdown",
   "id": "696d68a0",
   "metadata": {},
   "source": [
    "# **Results for different datasets**"
   ]
  },
  {
   "cell_type": "code",
   "execution_count": null,
   "id": "6540f155",
   "metadata": {},
   "outputs": [
    {
     "name": "stderr",
     "output_type": "stream",
     "text": [
      "c:\\Users\\szlin\\Desktop\\Studia\\PI\\Smote_Borderline_RF\\venv\\Lib\\site-packages\\tqdm\\auto.py:21: TqdmWarning: IProgress not found. Please update jupyter and ipywidgets. See https://ipywidgets.readthedocs.io/en/stable/user_install.html\n",
      "  from .autonotebook import tqdm as notebook_tqdm\n"
     ]
    }
   ],
   "source": [
    "from comparator import *\n",
    "from imblearn.datasets import fetch_datasets\n",
    "from sklearn.datasets import fetch_20newsgroups"
   ]
  },
  {
   "cell_type": "markdown",
   "id": "85942431",
   "metadata": {},
   "source": [
    "# US_CRIME"
   ]
  },
  {
   "cell_type": "code",
   "execution_count": null,
   "id": "610aa768",
   "metadata": {},
   "outputs": [],
   "source": [
    "us_crime = fetch_datasets()['us_crime']\n",
    "\n",
    "comparator_1 = Comparator(datasets=[[us_crime.data, us_crime.target]],\n",
    "                          dataset_names=['US Crime'],\n",
    "                          seprate_plots_for_classes=True,\n",
    "                          plot_type='box',\n",
    "                          plot_datasets=True,\n",
    "                          results_path='/results_csv/us_crime.csv',)\n",
    "\n",
    "comparator_1.compute()"
   ]
  },
  {
   "cell_type": "code",
   "execution_count": null,
   "id": "fc870291",
   "metadata": {},
   "outputs": [],
   "source": [
    "comparator_1.summary()"
   ]
  },
  {
   "cell_type": "markdown",
   "id": "cc8449f8",
   "metadata": {},
   "source": [
    "# LETTER_IMG"
   ]
  },
  {
   "cell_type": "code",
   "execution_count": null,
   "id": "1f002bbe",
   "metadata": {},
   "outputs": [],
   "source": [
    "letter_img = fetch_datasets()['letter_img']\n",
    "\n",
    "comparator_2 = Comparator(datasets=[[letter_img.data, letter_img.target]],\n",
    "                          dataset_names=['Letter Image'],\n",
    "                          seprate_plots_for_classes=True,\n",
    "                          plot_type='box',\n",
    "                          plot_datasets=True,\n",
    "                          results_path='/results_csv/letter_img.csv',)\n",
    "\n",
    "comparator_2.compute()"
   ]
  },
  {
   "cell_type": "code",
   "execution_count": null,
   "id": "a4eec0e9",
   "metadata": {},
   "outputs": [],
   "source": [
    "comparator_2.summary()"
   ]
  },
  {
   "cell_type": "markdown",
   "id": "8acf58b8",
   "metadata": {},
   "source": [
    "# ECOLI"
   ]
  },
  {
   "cell_type": "code",
   "execution_count": null,
   "id": "18315348",
   "metadata": {},
   "outputs": [],
   "source": [
    "ecoli = fetch_datasets()['ecoli']\n",
    "\n",
    "comparator_3 = Comparator(datasets=[[ecoli.data, ecoli.target]],\n",
    "                          dataset_names=['Ecoli'],\n",
    "                          seprate_plots_for_classes=True,\n",
    "                          plot_type='box',\n",
    "                          plot_datasets=True,\n",
    "                          results_path='/results_csv/ecoli.csv',)\n",
    "\n",
    "comparator_3.compute()"
   ]
  },
  {
   "cell_type": "code",
   "execution_count": null,
   "id": "6c38656e",
   "metadata": {},
   "outputs": [],
   "source": [
    "comparator_3.summary()"
   ]
  },
  {
   "cell_type": "markdown",
   "id": "53cc6fb8",
   "metadata": {},
   "source": [
    "# OIL"
   ]
  },
  {
   "cell_type": "code",
   "execution_count": null,
   "id": "4f7a1e48",
   "metadata": {},
   "outputs": [],
   "source": [
    "oil = fetch_datasets()['oil']\n",
    "\n",
    "comparator_4 = Comparator(datasets=[[oil.data, oil.target]],\n",
    "                          dataset_names=['Oil'],\n",
    "                          seprate_plots_for_classes=True,\n",
    "                          plot_type='box',\n",
    "                          plot_datasets=True,\n",
    "                          results_path='/results_csv/oil.csv',)\n",
    "\n",
    "comparator_4.compute()"
   ]
  },
  {
   "cell_type": "code",
   "execution_count": null,
   "id": "c731c690",
   "metadata": {},
   "outputs": [],
   "source": [
    "comparator_4.summary()"
   ]
  },
  {
   "cell_type": "markdown",
   "id": "f04441d4",
   "metadata": {},
   "source": [
    "# OPTICAL_DIGITS"
   ]
  },
  {
   "cell_type": "code",
   "execution_count": null,
   "id": "9ec58c63",
   "metadata": {},
   "outputs": [],
   "source": [
    "optical_digits = fetch_datasets()['optical_digits']\n",
    "\n",
    "comparator_5 = Comparator(datasets=[[optical_digits.data, optical_digits.target]],\n",
    "                          dataset_names=['Optical Digits'],\n",
    "                          seprate_plots_for_classes=True,\n",
    "                          plot_type='box',\n",
    "                          plot_datasets=True,\n",
    "                          results_path='/results_csv/optical_digits.csv',)\n",
    "\n",
    "comparator_5.compute()"
   ]
  },
  {
   "cell_type": "code",
   "execution_count": null,
   "id": "bbf13006",
   "metadata": {},
   "outputs": [],
   "source": [
    "comparator_5.summary()"
   ]
  },
  {
   "cell_type": "markdown",
   "id": "da5aefa6",
   "metadata": {},
   "source": [
    "# 20 NEWS GROUP"
   ]
  },
  {
   "cell_type": "code",
   "execution_count": null,
   "id": "636b1f09",
   "metadata": {},
   "outputs": [],
   "source": [
    "twenty_news = fetch_20newsgroups(subset='all', remove=('headers', 'footers', 'quotes'))\n",
    "\n",
    "comparator_6 = Comparator(datasets=[[twenty_news.data, twenty_news.target]],\n",
    "                          dataset_names=['20 News Group'],\n",
    "                          seprate_plots_for_classes=True,\n",
    "                          plot_type='box',\n",
    "                          plot_datasets=True,\n",
    "                          results_path='/results_csv/twenty_news.csv',)\n",
    "\n",
    "comparator_6.compute()"
   ]
  }
 ],
 "metadata": {
  "kernelspec": {
   "display_name": "venv",
   "language": "python",
   "name": "python3"
  },
  "language_info": {
   "codemirror_mode": {
    "name": "ipython",
    "version": 3
   },
   "file_extension": ".py",
   "mimetype": "text/x-python",
   "name": "python",
   "nbconvert_exporter": "python",
   "pygments_lexer": "ipython3",
   "version": "3.11.7"
  }
 },
 "nbformat": 4,
 "nbformat_minor": 5
}
