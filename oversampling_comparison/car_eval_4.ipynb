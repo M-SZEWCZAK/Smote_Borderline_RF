{
 "cells": [
  {
   "cell_type": "markdown",
   "id": "044f4612",
   "metadata": {},
   "source": [
    "# **Results for Car_eval_4 dataset**"
   ]
  },
  {
   "cell_type": "code",
   "execution_count": null,
   "id": "14231e43",
   "metadata": {},
   "outputs": [
    {
     "name": "stderr",
     "output_type": "stream",
     "text": [
      "c:\\Users\\szlin\\Desktop\\Studia\\PI\\Smote_Borderline_RF\\myenv\\Lib\\site-packages\\tqdm\\auto.py:21: TqdmWarning: IProgress not found. Please update jupyter and ipywidgets. See https://ipywidgets.readthedocs.io/en/stable/user_install.html\n",
      "  from .autonotebook import tqdm as notebook_tqdm\n"
     ]
    }
   ],
   "source": [
    "import sys\n",
    "import os\n",
    "\n",
    "sys.path.append(os.path.abspath(\"..\"))\n",
    "from comparator import Comparator\n",
    "\n",
    "dataset_name = \"car_eval_4\""
   ]
  },
  {
   "cell_type": "markdown",
   "id": "2bd26c95",
   "metadata": {},
   "source": [
    "# Sampling rate = 0.5"
   ]
  },
  {
   "cell_type": "code",
   "execution_count": null,
   "id": "0ca0d8ba",
   "metadata": {},
   "outputs": [],
   "source": [
    "comparator = Comparator(dataset_names=[dataset_name],\n",
    "                        results_path=f\"../oversampling_comparison_results/{dataset_name}.csv\",\n",
    "                        n_trees=100,\n",
    "                        iterations=100)\n",
    "comparator.compute()"
   ]
  },
  {
   "cell_type": "code",
   "execution_count": null,
   "id": "e106072b",
   "metadata": {},
   "outputs": [],
   "source": [
    "comparator.summary(plot_data=True)"
   ]
  },
  {
   "cell_type": "markdown",
   "id": "82d997ba",
   "metadata": {},
   "source": [
    "# Sampling rate = 0.3"
   ]
  },
  {
   "cell_type": "code",
   "execution_count": null,
   "id": "a7378d6a",
   "metadata": {},
   "outputs": [],
   "source": [
    "comparator1 = Comparator(\n",
    "    dataset_names=[dataset_name],\n",
    "    results_path=f\"../oversampling_comparison_results/{dataset_name}(1).csv\",\n",
    "    sampling_rate=0.3,\n",
    "    n_trees=100,\n",
    "    iterations=100,\n",
    ")\n",
    "comparator1.compute()"
   ]
  },
  {
   "cell_type": "code",
   "execution_count": null,
   "id": "d57ca6f6",
   "metadata": {},
   "outputs": [],
   "source": [
    "comparator1.summary()"
   ]
  },
  {
   "cell_type": "markdown",
   "id": "c357198f",
   "metadata": {},
   "source": [
    "# Sampling rate = 0.15"
   ]
  },
  {
   "cell_type": "code",
   "execution_count": null,
   "id": "77f76904",
   "metadata": {},
   "outputs": [],
   "source": [
    "comparator2 = Comparator(\n",
    "    dataset_names=[dataset_name],\n",
    "    results_path=f\"../oversampling_comparison_results/{dataset_name}(2).csv\",\n",
    "    sampling_rate=0.3,\n",
    "    n_trees=100,\n",
    "    iterations=100,\n",
    ")\n",
    "comparator2.compute()"
   ]
  },
  {
   "cell_type": "code",
   "execution_count": null,
   "id": "096630c8",
   "metadata": {},
   "outputs": [],
   "source": [
    "comparator2.summary()"
   ]
  },
  {
   "cell_type": "markdown",
   "id": "2ded227e",
   "metadata": {},
   "source": [
    "# Sampling rate = 0.7"
   ]
  },
  {
   "cell_type": "code",
   "execution_count": null,
   "id": "c03adba5",
   "metadata": {},
   "outputs": [],
   "source": [
    "comparator3 = Comparator(\n",
    "    dataset_names=[dataset_name],\n",
    "    results_path=f\"../oversampling_comparison_results/{dataset_name}(3).csv\",\n",
    "    sampling_rate=0.3,\n",
    "    n_trees=100,\n",
    "    iterations=100,\n",
    ")\n",
    "comparator3.compute()"
   ]
  },
  {
   "cell_type": "code",
   "execution_count": null,
   "id": "2564bdb8",
   "metadata": {},
   "outputs": [],
   "source": [
    "comparator3.summary()"
   ]
  },
  {
   "cell_type": "markdown",
   "id": "ba8c1a1e",
   "metadata": {},
   "source": [
    "# Sampling rate = 0.9"
   ]
  },
  {
   "cell_type": "code",
   "execution_count": null,
   "id": "6cee6fdf",
   "metadata": {},
   "outputs": [],
   "source": [
    "comparator4 = Comparator(\n",
    "    dataset_names=[dataset_name],\n",
    "    results_path=f\"../oversampling_comparison_results/{dataset_name}(4).csv\",\n",
    "    sampling_rate=0.3,\n",
    "    n_trees=100,\n",
    "    iterations=100,\n",
    ")\n",
    "comparator4.compute()"
   ]
  },
  {
   "cell_type": "code",
   "execution_count": null,
   "id": "11908b3e",
   "metadata": {},
   "outputs": [],
   "source": [
    "comparator4.summary()"
   ]
  },
  {
   "cell_type": "markdown",
   "id": "c0a33f7d",
   "metadata": {},
   "source": [
    "# Sampling rate = 1"
   ]
  },
  {
   "cell_type": "code",
   "execution_count": null,
   "id": "eadeb3cb",
   "metadata": {},
   "outputs": [],
   "source": [
    "comparator5 = Comparator(\n",
    "    dataset_names=[dataset_name],\n",
    "    results_path=f\"../oversampling_comparison_results/{dataset_name}(5).csv\",\n",
    "    sampling_rate=0.3,\n",
    "    n_trees=100,\n",
    "    iterations=100,\n",
    ")\n",
    "comparator5.compute()"
   ]
  },
  {
   "cell_type": "code",
   "execution_count": null,
   "id": "b32b1c62",
   "metadata": {},
   "outputs": [],
   "source": [
    "comparator5.summary()"
   ]
  }
 ],
 "metadata": {
  "kernelspec": {
   "display_name": "myenv",
   "language": "python",
   "name": "python3"
  },
  "language_info": {
   "codemirror_mode": {
    "name": "ipython",
    "version": 3
   },
   "file_extension": ".py",
   "mimetype": "text/x-python",
   "name": "python",
   "nbconvert_exporter": "python",
   "pygments_lexer": "ipython3",
   "version": "3.11.7"
  }
 },
 "nbformat": 4,
 "nbformat_minor": 5
}
