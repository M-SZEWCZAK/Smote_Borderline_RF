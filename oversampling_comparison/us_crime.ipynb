{
 "cells": [
  {
   "cell_type": "markdown",
   "id": "044f4612",
   "metadata": {},
   "source": [
    "# **Results for US crime dataset**"
   ]
  },
  {
   "cell_type": "code",
   "execution_count": null,
   "id": "14231e43",
   "metadata": {},
   "outputs": [
    {
     "name": "stderr",
     "output_type": "stream",
     "text": [
      "c:\\Users\\szlin\\Desktop\\Studia\\PI\\Smote_Borderline_RF\\myenv\\Lib\\site-packages\\tqdm\\auto.py:21: TqdmWarning: IProgress not found. Please update jupyter and ipywidgets. See https://ipywidgets.readthedocs.io/en/stable/user_install.html\n",
      "  from .autonotebook import tqdm as notebook_tqdm\n"
     ]
    }
   ],
   "source": [
    "import sys\n",
    "import os\n",
    "\n",
    "sys.path.append(os.path.abspath(\"..\"))\n",
    "from comparator import Comparator\n",
    "\n",
    "dataset_name = \"us_crime\""
   ]
  },
  {
   "cell_type": "markdown",
   "id": "2bd26c95",
   "metadata": {},
   "source": [
    "# Sampling rate = 0.5"
   ]
  },
  {
   "cell_type": "code",
   "execution_count": null,
   "id": "0ca0d8ba",
   "metadata": {},
   "outputs": [],
   "source": [
    "comparator = Comparator(dataset_names=[dataset_name],\n",
    "                        results_path=f\"../oversampling_comparison_results/{dataset_name}.csv\",\n",
    "                        n_trees=100,\n",
    "                        iterations=100)\n",
    "comparator.compute()"
   ]
  },
  {
   "cell_type": "code",
   "execution_count": null,
   "id": "e106072b",
   "metadata": {},
   "outputs": [],
   "source": [
    "comparator.summary(plot_data=True)"
   ]
  },
  {
   "cell_type": "markdown",
   "id": "82d997ba",
   "metadata": {},
   "source": [
    "# Sampling rate = 0.3"
   ]
  },
  {
   "cell_type": "code",
   "execution_count": null,
   "id": "a7378d6a",
   "metadata": {},
   "outputs": [],
   "source": [
    "comparator1 = Comparator(\n",
    "    dataset_names=[dataset_name],\n",
    "    results_path=f\"../oversampling_comparison_results/{dataset_name}(1).csv\",\n",
    "    sampling_rate=0.3,\n",
    "    n_trees=100,\n",
    "    iterations=100,\n",
    ")\n",
    "comparator1.compute()"
   ]
  },
  {
   "cell_type": "code",
   "execution_count": null,
   "id": "d57ca6f6",
   "metadata": {},
   "outputs": [],
   "source": [
    "comparator1.summary()"
   ]
  },
  {
   "cell_type": "markdown",
   "id": "e0300946",
   "metadata": {},
   "source": [
    "# Sampling rate = 0.15"
   ]
  },
  {
   "cell_type": "code",
   "execution_count": null,
   "id": "99f739e5",
   "metadata": {},
   "outputs": [],
   "source": [
    "comparator2 = Comparator(\n",
    "    dataset_names=[dataset_name],\n",
    "    results_path=f\"../oversampling_comparison_results/{dataset_name}(2).csv\",\n",
    "    sampling_rate=0.3,\n",
    "    n_trees=100,\n",
    "    iterations=100,\n",
    ")\n",
    "comparator2.compute()"
   ]
  },
  {
   "cell_type": "code",
   "execution_count": null,
   "id": "c02f05ba",
   "metadata": {},
   "outputs": [],
   "source": [
    "comparator2.summary()"
   ]
  }
 ],
 "metadata": {
  "kernelspec": {
   "display_name": "myenv",
   "language": "python",
   "name": "python3"
  },
  "language_info": {
   "codemirror_mode": {
    "name": "ipython",
    "version": 3
   },
   "file_extension": ".py",
   "mimetype": "text/x-python",
   "name": "python",
   "nbconvert_exporter": "python",
   "pygments_lexer": "ipython3",
   "version": "3.11.7"
  }
 },
 "nbformat": 4,
 "nbformat_minor": 5
}
