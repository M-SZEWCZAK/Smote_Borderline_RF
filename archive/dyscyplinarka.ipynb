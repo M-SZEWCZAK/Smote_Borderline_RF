{
 "cells": [
  {
   "cell_type": "code",
   "execution_count": 1,
   "id": "510d7a086999795e",
   "metadata": {
    "ExecuteTime": {
     "end_time": "2025-05-07T18:22:37.689980Z",
     "start_time": "2025-05-07T18:22:34.682260Z"
    },
    "collapsed": false
   },
   "outputs": [],
   "source": [
    "import math\n",
    "import matplotlib.pyplot as plt\n",
    "import numpy as np\n",
    "import pandas as pd\n",
    "import sklearn as sk\n",
    "import imblearn as imb"
   ]
  },
  {
   "cell_type": "markdown",
   "id": "b6d84bf84d36be98",
   "metadata": {
    "collapsed": false
   },
   "source": [
    "## US CRIME DATASET"
   ]
  },
  {
   "cell_type": "code",
   "execution_count": 10,
   "id": "e991f443ebc8d638",
   "metadata": {
    "ExecuteTime": {
     "end_time": "2025-05-07T18:35:50.803737Z",
     "start_time": "2025-05-07T18:35:50.362429Z"
    },
    "collapsed": false
   },
   "outputs": [
    {
     "data": {
      "text/plain": [
       "(1994, 100)"
      ]
     },
     "execution_count": 10,
     "metadata": {},
     "output_type": "execute_result"
    }
   ],
   "source": [
    "from imblearn.datasets import fetch_datasets\n",
    "ecoli = fetch_datasets()['us_crime']\n",
    "ecoli.data.shape"
   ]
  },
  {
   "cell_type": "code",
   "execution_count": 11,
   "id": "6e1ffddbdd85415f",
   "metadata": {
    "ExecuteTime": {
     "end_time": "2025-05-07T18:35:54.469193Z",
     "start_time": "2025-05-07T18:35:54.455136Z"
    },
    "collapsed": false
   },
   "outputs": [],
   "source": [
    "X = ecoli.data\n",
    "y = ecoli.target"
   ]
  },
  {
   "cell_type": "code",
   "execution_count": 12,
   "id": "d00ad51829ab1b1a",
   "metadata": {
    "ExecuteTime": {
     "end_time": "2025-05-07T18:35:55.394951Z",
     "start_time": "2025-05-07T18:35:55.380614Z"
    },
    "collapsed": false
   },
   "outputs": [],
   "source": [
    "from sklearn.model_selection import train_test_split\n",
    "\n",
    "X_train, X_test, y_train, y_test = train_test_split(\n",
    "    X, y, stratify=y, test_size=0.3, random_state=42\n",
    ")"
   ]
  },
  {
   "cell_type": "code",
   "execution_count": 13,
   "id": "94013b11226e5afb",
   "metadata": {
    "ExecuteTime": {
     "end_time": "2025-05-07T18:35:57.075887Z",
     "start_time": "2025-05-07T18:35:56.541457Z"
    },
    "collapsed": false
   },
   "outputs": [
    {
     "name": "stdout",
     "output_type": "stream",
     "text": [
      "=== Normal RF ===\n",
      "              precision    recall  f1-score   support\n",
      "\n",
      "          -1       0.95      0.98      0.97       554\n",
      "           1       0.62      0.40      0.49        45\n",
      "\n",
      "    accuracy                           0.94       599\n",
      "   macro avg       0.79      0.69      0.73       599\n",
      "weighted avg       0.93      0.94      0.93       599\n"
     ]
    }
   ],
   "source": [
    "from sklearn.ensemble import RandomForestClassifier\n",
    "from sklearn.metrics import classification_report\n",
    "\n",
    "rf = RandomForestClassifier(random_state=42)\n",
    "rf.fit(X_train, y_train)\n",
    "y_pred_rf = rf.predict(X_test)\n",
    "\n",
    "print(\"=== Normal RF ===\")\n",
    "print(classification_report(y_test, y_pred_rf))\n"
   ]
  },
  {
   "cell_type": "code",
   "execution_count": null,
   "id": "a39a1df43b577f9b",
   "metadata": {
    "ExecuteTime": {
     "end_time": "2025-05-07T18:36:25.656447Z",
     "start_time": "2025-05-07T18:36:24.230177Z"
    },
    "collapsed": false
   },
   "outputs": [
    {
     "name": "stdout",
     "output_type": "stream",
     "text": [
      "=== RF with Borderline-SMOTE ===\n",
      "              precision    recall  f1-score   support\n",
      "\n",
      "          -1       0.96      0.96      0.96       554\n",
      "           1       0.50      0.51      0.51        45\n",
      "\n",
      "    accuracy                           0.92       599\n",
      "   macro avg       0.73      0.73      0.73       599\n",
      "weighted avg       0.93      0.92      0.93       599\n"
     ]
    }
   ],
   "source": [
    "from sklearn.ensemble import RandomForestClassifier\n",
    "from sklearn.metrics import classification_report\n",
    "from imblearn.over_sampling import BorderlineSMOTE\n",
    "from imblearn.pipeline import Pipeline\n",
    "\n",
    "pipeline = Pipeline([\n",
    "    ('smote', BorderlineSMOTE(random_state=42)),\n",
    "    ('rf', RandomForestClassifier(random_state=42))\n",
    "])\n",
    "\n",
    "pipeline.fit(X_train, y_train)\n",
    "y_pred_smote = pipeline.predict(X_test)\n",
    "\n",
    "print(\"=== RF with Borderline-SMOTE ===\")\n",
    "print(classification_report(y_test, y_pred_smote))\n"
   ]
  },
  {
   "cell_type": "code",
   "execution_count": 16,
   "id": "b8535580fdae2599",
   "metadata": {
    "ExecuteTime": {
     "end_time": "2025-05-07T18:36:28.733658Z",
     "start_time": "2025-05-07T18:36:27.275030Z"
    },
    "collapsed": false
   },
   "outputs": [
    {
     "name": "stdout",
     "output_type": "stream",
     "text": [
      "=== RF with SMOTE ===\n",
      "              precision    recall  f1-score   support\n",
      "\n",
      "          -1       0.96      0.95      0.95       554\n",
      "           1       0.45      0.53      0.49        45\n",
      "\n",
      "    accuracy                           0.92       599\n",
      "   macro avg       0.71      0.74      0.72       599\n",
      "weighted avg       0.92      0.92      0.92       599\n"
     ]
    }
   ],
   "source": [
    "from imblearn.over_sampling import SMOTE\n",
    "\n",
    "pipeline = Pipeline([\n",
    "    ('smote', SMOTE(random_state=42)),\n",
    "    ('rf', RandomForestClassifier(random_state=42))\n",
    "])\n",
    "pipeline.fit(X_train, y_train)\n",
    "y_pred_smote = pipeline.predict(X_test)\n",
    "\n",
    "print(\"=== RF with SMOTE ===\")\n",
    "print(classification_report(y_test, y_pred_smote))"
   ]
  },
  {
   "cell_type": "code",
   "execution_count": 18,
   "id": "b8fba6e0e920e9fd",
   "metadata": {
    "ExecuteTime": {
     "end_time": "2025-05-07T18:36:43.661312Z",
     "start_time": "2025-05-07T18:36:42.031169Z"
    },
    "collapsed": false
   },
   "outputs": [
    {
     "name": "stdout",
     "output_type": "stream",
     "text": [
      "=== RF with ADASYN ===\n",
      "              precision    recall  f1-score   support\n",
      "\n",
      "          -1       0.96      0.95      0.95       554\n",
      "           1       0.45      0.56      0.50        45\n",
      "\n",
      "    accuracy                           0.92       599\n",
      "   macro avg       0.71      0.75      0.73       599\n",
      "weighted avg       0.93      0.92      0.92       599\n"
     ]
    }
   ],
   "source": [
    "\n",
    "from imblearn.over_sampling import ADASYN\n",
    "\n",
    "pipeline = Pipeline([\n",
    "    ('smote', ADASYN(random_state=42)),\n",
    "    ('rf', RandomForestClassifier(random_state=42))\n",
    "])\n",
    "pipeline.fit(X_train, y_train)\n",
    "y_pred_smote = pipeline.predict(X_test)\n",
    "\n",
    "print(\"=== RF with ADASYN ===\")\n",
    "print(classification_report(y_test, y_pred_smote))"
   ]
  },
  {
   "cell_type": "markdown",
   "id": "a19babbb44b1bc6a",
   "metadata": {
    "collapsed": false
   },
   "source": [
    "## LETTER_IMG DATASET"
   ]
  },
  {
   "cell_type": "code",
   "execution_count": 19,
   "id": "ecaecb613ef4eedd",
   "metadata": {
    "ExecuteTime": {
     "end_time": "2025-05-07T18:39:57.301035Z",
     "start_time": "2025-05-07T18:39:56.971491Z"
    },
    "collapsed": false
   },
   "outputs": [
    {
     "data": {
      "text/plain": [
       "(20000, 16)"
      ]
     },
     "execution_count": 19,
     "metadata": {},
     "output_type": "execute_result"
    }
   ],
   "source": [
    "limg = fetch_datasets()['letter_img']\n",
    "limg.data.shape"
   ]
  },
  {
   "cell_type": "code",
   "execution_count": 22,
   "id": "42ee242f1450de6e",
   "metadata": {
    "ExecuteTime": {
     "end_time": "2025-05-07T18:41:06.976677Z",
     "start_time": "2025-05-07T18:41:06.947924Z"
    },
    "collapsed": false
   },
   "outputs": [],
   "source": [
    "X = limg.data\n",
    "y = limg.target\n",
    "X_train, X_test, y_train, y_test = train_test_split(\n",
    "    X, y, stratify=y, test_size=0.3, random_state=42\n",
    ")"
   ]
  },
  {
   "cell_type": "code",
   "execution_count": 23,
   "id": "d0cfdb378895eca6",
   "metadata": {
    "ExecuteTime": {
     "end_time": "2025-05-07T18:41:09.006332Z",
     "start_time": "2025-05-07T18:41:08.114879Z"
    },
    "collapsed": false
   },
   "outputs": [
    {
     "name": "stdout",
     "output_type": "stream",
     "text": [
      "=== Normal RF ===\n",
      "              precision    recall  f1-score   support\n",
      "\n",
      "          -1       1.00      1.00      1.00      5780\n",
      "           1       0.99      0.89      0.94       220\n",
      "\n",
      "    accuracy                           1.00      6000\n",
      "   macro avg       0.99      0.95      0.97      6000\n",
      "weighted avg       1.00      1.00      1.00      6000\n"
     ]
    }
   ],
   "source": [
    "rf = RandomForestClassifier(random_state=42)\n",
    "rf.fit(X_train, y_train)\n",
    "y_pred_rf = rf.predict(X_test)\n",
    "\n",
    "print(\"=== Normal RF ===\")\n",
    "print(classification_report(y_test, y_pred_rf))"
   ]
  },
  {
   "cell_type": "code",
   "execution_count": 24,
   "id": "89d2c121ec796ef0",
   "metadata": {
    "ExecuteTime": {
     "end_time": "2025-05-07T18:41:42.075833Z",
     "start_time": "2025-05-07T18:41:37.847796Z"
    },
    "collapsed": false
   },
   "outputs": [
    {
     "name": "stdout",
     "output_type": "stream",
     "text": [
      "=== RF with Borderline-SMOTE ===\n",
      "              precision    recall  f1-score   support\n",
      "\n",
      "          -1       1.00      1.00      1.00      5780\n",
      "           1       1.00      0.91      0.95       220\n",
      "\n",
      "    accuracy                           1.00      6000\n",
      "   macro avg       1.00      0.96      0.98      6000\n",
      "weighted avg       1.00      1.00      1.00      6000\n"
     ]
    }
   ],
   "source": [
    "pipeline = Pipeline([\n",
    "    ('smote', BorderlineSMOTE(random_state=42)),\n",
    "    ('rf', RandomForestClassifier(random_state=42))\n",
    "])\n",
    "\n",
    "pipeline.fit(X_train, y_train)\n",
    "y_pred_smote = pipeline.predict(X_test)\n",
    "\n",
    "print(\"=== RF with Borderline-SMOTE ===\")\n",
    "print(classification_report(y_test, y_pred_smote))"
   ]
  },
  {
   "cell_type": "code",
   "execution_count": null,
   "id": "c68c6ece331fc034",
   "metadata": {
    "collapsed": false
   },
   "outputs": [],
   "source": []
  }
 ],
 "metadata": {
  "kernelspec": {
   "display_name": "venv",
   "language": "python",
   "name": "python3"
  },
  "language_info": {
   "codemirror_mode": {
    "name": "ipython",
    "version": 2
   },
   "file_extension": ".py",
   "mimetype": "text/x-python",
   "name": "python",
   "nbconvert_exporter": "python",
   "pygments_lexer": "ipython2",
   "version": "3.12.4"
  }
 },
 "nbformat": 4,
 "nbformat_minor": 5
}
